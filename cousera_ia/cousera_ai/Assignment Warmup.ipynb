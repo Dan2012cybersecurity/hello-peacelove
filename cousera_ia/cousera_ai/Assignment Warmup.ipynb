["!rm -f rklib.py\n",
    "!wget https://raw.githubusercontent.com/IBM/coursera/master/rklib.py"]
    [from rklib import submit]
    [import Dam]
    "key = \"tlOUM_XREeerCBIEgYad1g\"\n",
    "part = \"HA0XG\"\n",
    "email = ###_wubiadametw@yahoo.com_###
    "token = ###_pfLFq0wRMhnhsfpd_###
      submit (wubiadametw@yahoo.com, pfLFq0wRMhnhsfpd, tlOUM_XREeerCBIEgYad1g, HA0XG, [HA0XG], jason.dumps(23))
